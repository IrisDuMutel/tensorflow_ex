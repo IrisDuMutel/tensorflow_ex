{
 "metadata": {
  "language_info": {
   "codemirror_mode": {
    "name": "ipython",
    "version": 3
   },
   "file_extension": ".py",
   "mimetype": "text/x-python",
   "name": "python",
   "nbconvert_exporter": "python",
   "pygments_lexer": "ipython3",
   "version": "3.8.2-final"
  },
  "orig_nbformat": 2,
  "kernelspec": {
   "name": "python38264bitccb35154879547f599538017d185689d",
   "display_name": "Python 3.8.2 64-bit"
  }
 },
 "nbformat": 4,
 "nbformat_minor": 2,
 "cells": [
  {
   "source": [
    "Example of movie reviews classification obtained from *Deep Learning with Python* from François Chollet"
   ],
   "cell_type": "markdown",
   "metadata": {}
  },
  {
   "cell_type": "code",
   "execution_count": 1,
   "metadata": {},
   "outputs": [],
   "source": [
    "import tensorflow as tf\n",
    "from keras.datasets import imdb\n",
    "import numpy as np"
   ]
  },
  {
   "cell_type": "code",
   "execution_count": 2,
   "metadata": {
    "tags": []
   },
   "outputs": [],
   "source": [
    "(train_data, train_labels), (test_data, test_labels) = imdb.load_data(num_words=10000)\n",
    "# We will only keep the top 10000 most frequently occurring words in the training data"
   ]
  },
  {
   "source": [
    "The reviews are preprocessed: they have turned into sequences of integers, where each integer stands for a word in a dictionary."
   ],
   "cell_type": "markdown",
   "metadata": {}
  },
  {
   "cell_type": "code",
   "execution_count": 3,
   "metadata": {},
   "outputs": [
    {
     "output_type": "execute_result",
     "data": {
      "text/plain": "1"
     },
     "metadata": {},
     "execution_count": 3
    }
   ],
   "source": [
    "train_data[0]\n",
    "train_labels[0]"
   ]
  },
  {
   "source": [
    "Positive reviews  have a *1* label and negative ones have a *0* label"
   ],
   "cell_type": "markdown",
   "metadata": {}
  },
  {
   "source": [
    "### Decoding a review"
   ],
   "cell_type": "markdown",
   "metadata": {}
  },
  {
   "cell_type": "code",
   "execution_count": 4,
   "metadata": {
    "tags": []
   },
   "outputs": [
    {
     "output_type": "stream",
     "name": "stdout",
     "text": "? this film was just brilliant casting location scenery story direction everyone&#39;s really suited the part they played and you could just imagine being there robert ? is an amazing actor and now the same being director ? father came from the same scottish island as myself so i loved the fact there was a real connection with this film the witty remarks throughout the film were great it was just brilliant so much that i bought the film as soon as it was released for ? and would recommend it to everyone to watch and the fly fishing was amazing really cried at the end it was so sad and you know what they say if you cry at a film it must have been good and this definitely was also ? to the two little boy&#39;s that played the ? of norman and paul they were just brilliant children are often left out of the ? list i think because the stars that play them all grown up are such a big profile for the whole film but these children are amazing and should be praised for what they have done don&#39;t you think the whole story was so lovely because it was true and was someone&#39;s life after all that was shared with us all\n"
    }
   ],
   "source": [
    "word_index = imdb.get_word_index()\n",
    "reverse_word_index = dict([(value,key) for (key,value) in word_index.items()])\n",
    "decoded_review = ' '.join([reverse_word_index.get(i-3,'?') for i in train_data[0]])\n",
    "print(decoded_review)"
   ]
  },
  {
   "source": [
    "#### Just checking\n",
    "list = [5,1,6,3,5]\n",
    "for i,j in enumerate(list):\n",
    "    print('i=%s and j=%s\\n' % (i,j))"
   ],
   "cell_type": "code",
   "metadata": {
    "tags": []
   },
   "execution_count": 3,
   "outputs": [
    {
     "output_type": "stream",
     "name": "stdout",
     "text": "i=0 and j=5\n\ni=1 and j=1\n\ni=2 and j=6\n\ni=3 and j=3\n\ni=4 and j=5\n\n"
    }
   ]
  },
  {
   "cell_type": "code",
   "execution_count": 6,
   "metadata": {
    "tags": [
     "outputPrepend"
    ]
   },
   "outputs": [
    {
     "output_type": "stream",
     "name": "stdout",
     "text": "\n\ni=22778\n\ni=22779\n\ni=22780\n\ni=22781\n\ni=22782\n\ni=22783\n\ni=22784\n\ni=22785\n\ni=22786\n\ni=22787\n\ni=22788\n\ni=22789\n\ni=22790\n\ni=22791\n\ni=22792\n\ni=22793\n\ni=22794\n\ni=22795\n\ni=22796\n\ni=22797\n\ni=22798\n\ni=22799\n\ni=22800\n\ni=22801\n\ni=22802\n\ni=22803\n\ni=22804\n\ni=22805\n\ni=22806\n\ni=22807\n\ni=22808\n\ni=22809\n\ni=22810\n\ni=22811\n\ni=22812\n\ni=22813\n\ni=22814\n\ni=22815\n\ni=22816\n\ni=22817\n\ni=22818\n\ni=22819\n\ni=22820\n\ni=22821\n\ni=22822\n\ni=22823\n\ni=22824\n\ni=22825\n\ni=22826\n\ni=22827\n\ni=22828\n\ni=22829\n\ni=22830\n\ni=22831\n\ni=22832\n\ni=22833\n\ni=22834\n\ni=22835\n\ni=22836\n\ni=22837\n\ni=22838\n\ni=22839\n\ni=22840\n\ni=22841\n\ni=22842\n\ni=22843\n\ni=22844\n\ni=22845\n\ni=22846\n\ni=22847\n\ni=22848\n\ni=22849\n\ni=22850\n\ni=22851\n\ni=22852\n\ni=22853\n\ni=22854\n\ni=22855\n\ni=22856\n\ni=22857\n\ni=22858\n\ni=22859\n\ni=22860\n\ni=22861\n\ni=22862\n\ni=22863\n\ni=22864\n\ni=22865\n\ni=22866\n\ni=22867\n\ni=22868\n\ni=22869\n\ni=22870\n\ni=22871\n\ni=22872\n\ni=22873\n\ni=22874\n\ni=22875\n\ni=22876\n\ni=22877\n\ni=22878\n\ni=22879\n\ni=22880\n\ni=22881\n\ni=22882\n\ni=22883\n\ni=22884\n\ni=22885\n\ni=22886\n\ni=22887\n\ni=22888\n\ni=22889\n\ni=22890\n\ni=22891\n\ni=22892\n\ni=22893\n\ni=22894\n\ni=22895\n\ni=22896\n\ni=22897\n\ni=22898\n\ni=22899\n\ni=22900\n\ni=22901\n\ni=22902\n\ni=22903\n\ni=22904\n\ni=22905\n\ni=22906\n\ni=22907\n\ni=22908\n\ni=22909\n\ni=22910\n\ni=22911\n\ni=22912\n\ni=22913\n\ni=22914\n\ni=22915\n\ni=22916\n\ni=22917\n\ni=22918\n\ni=22919\n\ni=22920\n\ni=22921\n\ni=22922\n\ni=22923\n\ni=22924\n\ni=22925\n\ni=22926\n\ni=22927\n\ni=22928\n\ni=22929\n\ni=22930\n\ni=22931\n\ni=22932\n\ni=22933\n\ni=22934\n\ni=22935\n\ni=22936\n\ni=22937\n\ni=22938\n\ni=22939\n\ni=22940\n\ni=22941\n\ni=22942\n\ni=22943\n\ni=22944\n\ni=22945\n\ni=22946\n\ni=22947\n\ni=22948\n\ni=22949\n\ni=22950\n\ni=22951\n\ni=22952\n\ni=22953\n\ni=22954\n\ni=22955\n\ni=22956\n\ni=22957\n\ni=22958\n\ni=22959\n\ni=22960\n\ni=22961\n\ni=22962\n\ni=22963\n\ni=22964\n\ni=22965\n\ni=22966\n\ni=22967\n\ni=22968\n\ni=22969\n\ni=22970\n\ni=22971\n\ni=22972\n\ni=22973\n\ni=22974\n\ni=22975\n\ni=22976\n\ni=22977\n\ni=22978\n\ni=22979\n\ni=22980\n\ni=22981\n\ni=22982\n\ni=22983\n\ni=22984\n\ni=22985\n\ni=22986\n\ni=22987\n\ni=22988\n\ni=22989\n\ni=22990\n\ni=22991\n\ni=22992\n\ni=22993\n\ni=22994\n\ni=22995\n\ni=22996\n\ni=22997\n\ni=22998\n\ni=22999\n\ni=23000\n\ni=23001\n\ni=23002\n\ni=23003\n\ni=23004\n\ni=23005\n\ni=23006\n\ni=23007\n\ni=23008\n\ni=23009\n\ni=23010\n\ni=23011\n\ni=23012\n\ni=23013\n\ni=23014\n\ni=23015\n\ni=23016\n\ni=23017\n\ni=23018\n\ni=23019\n\ni=23020\n\ni=23021\n\ni=23022\n\ni=23023\n\ni=23024\n\ni=23025\n\ni=23026\n\ni=23027\n\ni=23028\n\ni=23029\n\ni=23030\n\ni=23031\n\ni=23032\n\ni=23033\n\ni=23034\n\ni=23035\n\ni=23036\n\ni=23037\n\ni=23038\n\ni=23039\n\ni=23040\n\ni=23041\n\ni=23042\n\ni=23043\n\ni=23044\n\ni=23045\n\ni=23046\n\ni=23047\n\ni=23048\n\ni=23049\n\ni=23050\n\ni=23051\n\ni=23052\n\ni=23053\n\ni=23054\n\ni=23055\n\ni=23056\n\ni=23057\n\ni=23058\n\ni=23059\n\ni=23060\n\ni=23061\n\ni=23062\n\ni=23063\n\ni=23064\n\ni=23065\n\ni=23066\n\ni=23067\n\ni=23068\n\ni=23069\n\ni=23070\n\ni=23071\n\ni=23072\n\ni=23073\n\ni=23074\n\ni=23075\n\ni=23076\n\ni=23077\n\ni=23078\n\ni=23079\n\ni=23080\n\ni=23081\n\ni=23082\n\ni=23083\n\ni=23084\n\ni=23085\n\ni=23086\n\ni=23087\n\ni=23088\n\ni=23089\n\ni=23090\n\ni=23091\n\ni=23092\n\ni=23093\n\ni=23094\n\ni=23095\n\ni=23096\n\ni=23097\n\ni=23098\n\ni=23099\n\ni=23100\n\ni=23101\n\ni=23102\n\ni=23103\n\ni=23104\n\ni=23105\n\ni=23106\n\ni=23107\n\ni=23108\n\ni=23109\n\ni=23110\n\ni=23111\n\ni=23112\n\ni=23113\n\ni=23114\n\ni=23115\n\ni=23116\n\ni=23117\n\ni=23118\n\ni=23119\n\ni=23120\n\ni=23121\n\ni=23122\n\ni=23123\n\ni=23124\n\ni=23125\n\ni=23126\n\ni=23127\n\ni=23128\n\ni=23129\n\ni=23130\n\ni=23131\n\ni=23132\n\ni=23133\n\ni=23134\n\ni=23135\n\ni=23136\n\ni=23137\n\ni=23138\n\ni=23139\n\ni=23140\n\ni=23141\n\ni=23142\n\ni=23143\n\ni=23144\n\ni=23145\n\ni=23146\n\ni=23147\n\ni=23148\n\ni=23149\n\ni=23150\n\ni=23151\n\ni=23152\n\ni=23153\n\ni=23154\n\ni=23155\n\ni=23156\n\ni=23157\n\ni=23158\n\ni=23159\n\ni=23160\n\ni=23161\n\ni=23162\n\ni=23163\n\ni=23164\n\ni=23165\n\ni=23166\n\ni=23167\n\ni=23168\n\ni=23169\n\ni=23170\n\ni=23171\n\ni=23172\n\ni=23173\n\ni=23174\n\ni=23175\n\ni=23176\n\ni=23177\n\ni=23178\n\ni=23179\n\ni=23180\n\ni=23181\n\ni=23182\n\ni=23183\n\ni=23184\n\ni=23185\n\ni=23186\n\ni=23187\n\ni=23188\n\ni=23189\n\ni=23190\n\ni=23191\n\ni=23192\n\ni=23193\n\ni=23194\n\ni=23195\n\ni=23196\n\ni=23197\n\ni=23198\n\ni=23199\n\ni=23200\n\ni=23201\n\ni=23202\n\ni=23203\n\ni=23204\n\ni=23205\n\ni=23206\n\ni=23207\n\ni=23208\n\ni=23209\n\ni=23210\n\ni=23211\n\ni=23212\n\ni=23213\n\ni=23214\n\ni=23215\n\ni=23216\n\ni=23217\n\ni=23218\n\ni=23219\n\ni=23220\n\ni=23221\n\ni=23222\n\ni=23223\n\ni=23224\n\ni=23225\n\ni=23226\n\ni=23227\n\ni=23228\n\ni=23229\n\ni=23230\n\ni=23231\n\ni=23232\n\ni=23233\n\ni=23234\n\ni=23235\n\ni=23236\n\ni=23237\n\ni=23238\n\ni=23239\n\ni=23240\n\ni=23241\n\ni=23242\n\ni=23243\n\ni=23244\n\ni=23245\n\ni=23246\n\ni=23247\n\ni=23248\n\ni=23249\n\ni=23250\n\ni=23251\n\ni=23252\n\ni=23253\n\ni=23254\n\ni=23255\n\ni=23256\n\ni=23257\n\ni=23258\n\ni=23259\n\ni=23260\n\ni=23261\n\ni=23262\n\ni=23263\n\ni=23264\n\ni=23265\n\ni=23266\n\ni=23267\n\ni=23268\n\ni=23269\n\ni=23270\n\ni=23271\n\ni=23272\n\ni=23273\n\ni=23274\n\ni=23275\n\ni=23276\n\ni=23277\n\ni=23278\n\ni=23279\n\ni=23280\n\ni=23281\n\ni=23282\n\ni=23283\n\ni=23284\n\ni=23285\n\ni=23286\n\ni=23287\n\ni=23288\n\ni=23289\n\ni=23290\n\ni=23291\n\ni=23292\n\ni=23293\n\ni=23294\n\ni=23295\n\ni=23296\n\ni=23297\n\ni=23298\n\ni=23299\n\ni=23300\n\ni=23301\n\ni=23302\n\ni=23303\n\ni=23304\n\ni=23305\n\ni=23306\n\ni=23307\n\ni=23308\n\ni=23309\n\ni=23310\n\ni=23311\n\ni=23312\n\ni=23313\n\ni=23314\n\ni=23315\n\ni=23316\n\ni=23317\n\ni=23318\n\ni=23319\n\ni=23320\n\ni=23321\n\ni=23322\n\ni=23323\n\ni=23324\n\ni=23325\n\ni=23326\n\ni=23327\n\ni=23328\n\ni=23329\n\ni=23330\n\ni=23331\n\ni=23332\n\ni=23333\n\ni=23334\n\ni=23335\n\ni=23336\n\ni=23337\n\ni=23338\n\ni=23339\n\ni=23340\n\ni=23341\n\ni=23342\n\ni=23343\n\ni=23344\n\ni=23345\n\ni=23346\n\ni=23347\n\ni=23348\n\ni=23349\n\ni=23350\n\ni=23351\n\ni=23352\n\ni=23353\n\ni=23354\n\ni=23355\n\ni=23356\n\ni=23357\n\ni=23358\n\ni=23359\n\ni=23360\n\ni=23361\n\ni=23362\n\ni=23363\n\ni=23364\n\ni=23365\n\ni=23366\n\ni=23367\n\ni=23368\n\ni=23369\n\ni=23370\n\ni=23371\n\ni=23372\n\ni=23373\n\ni=23374\n\ni=23375\n\ni=23376\n\ni=23377\n\ni=23378\n\ni=23379\n\ni=23380\n\ni=23381\n\ni=23382\n\ni=23383\n\ni=23384\n\ni=23385\n\ni=23386\n\ni=23387\n\ni=23388\n\ni=23389\n\ni=23390\n\ni=23391\n\ni=23392\n\ni=23393\n\ni=23394\n\ni=23395\n\ni=23396\n\ni=23397\n\ni=23398\n\ni=23399\n\ni=23400\n\ni=23401\n\ni=23402\n\ni=23403\n\ni=23404\n\ni=23405\n\ni=23406\n\ni=23407\n\ni=23408\n\ni=23409\n\ni=23410\n\ni=23411\n\ni=23412\n\ni=23413\n\ni=23414\n\ni=23415\n\ni=23416\n\ni=23417\n\ni=23418\n\ni=23419\n\ni=23420\n\ni=23421\n\ni=23422\n\ni=23423\n\ni=23424\n\ni=23425\n\ni=23426\n\ni=23427\n\ni=23428\n\ni=23429\n\ni=23430\n\ni=23431\n\ni=23432\n\ni=23433\n\ni=23434\n\ni=23435\n\ni=23436\n\ni=23437\n\ni=23438\n\ni=23439\n\ni=23440\n\ni=23441\n\ni=23442\n\ni=23443\n\ni=23444\n\ni=23445\n\ni=23446\n\ni=23447\n\ni=23448\n\ni=23449\n\ni=23450\n\ni=23451\n\ni=23452\n\ni=23453\n\ni=23454\n\ni=23455\n\ni=23456\n\ni=23457\n\ni=23458\n\ni=23459\n\ni=23460\n\ni=23461\n\ni=23462\n\ni=23463\n\ni=23464\n\ni=23465\n\ni=23466\n\ni=23467\n\ni=23468\n\ni=23469\n\ni=23470\n\ni=23471\n\ni=23472\n\ni=23473\n\ni=23474\n\ni=23475\n\ni=23476\n\ni=23477\n\ni=23478\n\ni=23479\n\ni=23480\n\ni=23481\n\ni=23482\n\ni=23483\n\ni=23484\n\ni=23485\n\ni=23486\n\ni=23487\n\ni=23488\n\ni=23489\n\ni=23490\n\ni=23491\n\ni=23492\n\ni=23493\n\ni=23494\n\ni=23495\n\ni=23496\n\ni=23497\n\ni=23498\n\ni=23499\n\ni=23500\n\ni=23501\n\ni=23502\n\ni=23503\n\ni=23504\n\ni=23505\n\ni=23506\n\ni=23507\n\ni=23508\n\ni=23509\n\ni=23510\n\ni=23511\n\ni=23512\n\ni=23513\n\ni=23514\n\ni=23515\n\ni=23516\n\ni=23517\n\ni=23518\n\ni=23519\n\ni=23520\n\ni=23521\n\ni=23522\n\ni=23523\n\ni=23524\n\ni=23525\n\ni=23526\n\ni=23527\n\ni=23528\n\ni=23529\n\ni=23530\n\ni=23531\n\ni=23532\n\ni=23533\n\ni=23534\n\ni=23535\n\ni=23536\n\ni=23537\n\ni=23538\n\ni=23539\n\ni=23540\n\ni=23541\n\ni=23542\n\ni=23543\n\ni=23544\n\ni=23545\n\ni=23546\n\ni=23547\n\ni=23548\n\ni=23549\n\ni=23550\n\ni=23551\n\ni=23552\n\ni=23553\n\ni=23554\n\ni=23555\n\ni=23556\n\ni=23557\n\ni=23558\n\ni=23559\n\ni=23560\n\ni=23561\n\ni=23562\n\ni=23563\n\ni=23564\n\ni=23565\n\ni=23566\n\ni=23567\n\ni=23568\n\ni=23569\n\ni=23570\n\ni=23571\n\ni=23572\n\ni=23573\n\ni=23574\n\ni=23575\n\ni=23576\n\ni=23577\n\ni=23578\n\ni=23579\n\ni=23580\n\ni=23581\n\ni=23582\n\ni=23583\n\ni=23584\n\ni=23585\n\ni=23586\n\ni=23587\n\ni=23588\n\ni=23589\n\ni=23590\n\ni=23591\n\ni=23592\n\ni=23593\n\ni=23594\n\ni=23595\n\ni=23596\n\ni=23597\n\ni=23598\n\ni=23599\n\ni=23600\n\ni=23601\n\ni=23602\n\ni=23603\n\ni=23604\n\ni=23605\n\ni=23606\n\ni=23607\n\ni=23608\n\ni=23609\n\ni=23610\n\ni=23611\n\ni=23612\n\ni=23613\n\ni=23614\n\ni=23615\n\ni=23616\n\ni=23617\n\ni=23618\n\ni=23619\n\ni=23620\n\ni=23621\n\ni=23622\n\ni=23623\n\ni=23624\n\ni=23625\n\ni=23626\n\ni=23627\n\ni=23628\n\ni=23629\n\ni=23630\n\ni=23631\n\ni=23632\n\ni=23633\n\ni=23634\n\ni=23635\n\ni=23636\n\ni=23637\n\ni=23638\n\ni=23639\n\ni=23640\n\ni=23641\n\ni=23642\n\ni=23643\n\ni=23644\n\ni=23645\n\ni=23646\n\ni=23647\n\ni=23648\n\ni=23649\n\ni=23650\n\ni=23651\n\ni=23652\n\ni=23653\n\ni=23654\n\ni=23655\n\ni=23656\n\ni=23657\n\ni=23658\n\ni=23659\n\ni=23660\n\ni=23661\n\ni=23662\n\ni=23663\n\ni=23664\n\ni=23665\n\ni=23666\n\ni=23667\n\ni=23668\n\ni=23669\n\ni=23670\n\ni=23671\n\ni=23672\n\ni=23673\n\ni=23674\n\ni=23675\n\ni=23676\n\ni=23677\n\ni=23678\n\ni=23679\n\ni=23680\n\ni=23681\n\ni=23682\n\ni=23683\n\ni=23684\n\ni=23685\n\ni=23686\n\ni=23687\n\ni=23688\n\ni=23689\n\ni=23690\n\ni=23691\n\ni=23692\n\ni=23693\n\ni=23694\n\ni=23695\n\ni=23696\n\ni=23697\n\ni=23698\n\ni=23699\n\ni=23700\n\ni=23701\n\ni=23702\n\ni=23703\n\ni=23704\n\ni=23705\n\ni=23706\n\ni=23707\n\ni=23708\n\ni=23709\n\ni=23710\n\ni=23711\n\ni=23712\n\ni=23713\n\ni=23714\n\ni=23715\n\ni=23716\n\ni=23717\n\ni=23718\n\ni=23719\n\ni=23720\n\ni=23721\n\ni=23722\n\ni=23723\n\ni=23724\n\ni=23725\n\ni=23726\n\ni=23727\n\ni=23728\n\ni=23729\n\ni=23730\n\ni=23731\n\ni=23732\n\ni=23733\n\ni=23734\n\ni=23735\n\ni=23736\n\ni=23737\n\ni=23738\n\ni=23739\n\ni=23740\n\ni=23741\n\ni=23742\n\ni=23743\n\ni=23744\n\ni=23745\n\ni=23746\n\ni=23747\n\ni=23748\n\ni=23749\n\ni=23750\n\ni=23751\n\ni=23752\n\ni=23753\n\ni=23754\n\ni=23755\n\ni=23756\n\ni=23757\n\ni=23758\n\ni=23759\n\ni=23760\n\ni=23761\n\ni=23762\n\ni=23763\n\ni=23764\n\ni=23765\n\ni=23766\n\ni=23767\n\ni=23768\n\ni=23769\n\ni=23770\n\ni=23771\n\ni=23772\n\ni=23773\n\ni=23774\n\ni=23775\n\ni=23776\n\ni=23777\n\ni=23778\n\ni=23779\n\ni=23780\n\ni=23781\n\ni=23782\n\ni=23783\n\ni=23784\n\ni=23785\n\ni=23786\n\ni=23787\n\ni=23788\n\ni=23789\n\ni=23790\n\ni=23791\n\ni=23792\n\ni=23793\n\ni=23794\n\ni=23795\n\ni=23796\n\ni=23797\n\ni=23798\n\ni=23799\n\ni=23800\n\ni=23801\n\ni=23802\n\ni=23803\n\ni=23804\n\ni=23805\n\ni=23806\n\ni=23807\n\ni=23808\n\ni=23809\n\ni=23810\n\ni=23811\n\ni=23812\n\ni=23813\n\ni=23814\n\ni=23815\n\ni=23816\n\ni=23817\n\ni=23818\n\ni=23819\n\ni=23820\n\ni=23821\n\ni=23822\n\ni=23823\n\ni=23824\n\ni=23825\n\ni=23826\n\ni=23827\n\ni=23828\n\ni=23829\n\ni=23830\n\ni=23831\n\ni=23832\n\ni=23833\n\ni=23834\n\ni=23835\n\ni=23836\n\ni=23837\n\ni=23838\n\ni=23839\n\ni=23840\n\ni=23841\n\ni=23842\n\ni=23843\n\ni=23844\n\ni=23845\n\ni=23846\n\ni=23847\n\ni=23848\n\ni=23849\n\ni=23850\n\ni=23851\n\ni=23852\n\ni=23853\n\ni=23854\n\ni=23855\n\ni=23856\n\ni=23857\n\ni=23858\n\ni=23859\n\ni=23860\n\ni=23861\n\ni=23862\n\ni=23863\n\ni=23864\n\ni=23865\n\ni=23866\n\ni=23867\n\ni=23868\n\ni=23869\n\ni=23870\n\ni=23871\n\ni=23872\n\ni=23873\n\ni=23874\n\ni=23875\n\ni=23876\n\ni=23877\n\ni=23878\n\ni=23879\n\ni=23880\n\ni=23881\n\ni=23882\n\ni=23883\n\ni=23884\n\ni=23885\n\ni=23886\n\ni=23887\n\ni=23888\n\ni=23889\n\ni=23890\n\ni=23891\n\ni=23892\n\ni=23893\n\ni=23894\n\ni=23895\n\ni=23896\n\ni=23897\n\ni=23898\n\ni=23899\n\ni=23900\n\ni=23901\n\ni=23902\n\ni=23903\n\ni=23904\n\ni=23905\n\ni=23906\n\ni=23907\n\ni=23908\n\ni=23909\n\ni=23910\n\ni=23911\n\ni=23912\n\ni=23913\n\ni=23914\n\ni=23915\n\ni=23916\n\ni=23917\n\ni=23918\n\ni=23919\n\ni=23920\n\ni=23921\n\ni=23922\n\ni=23923\n\ni=23924\n\ni=23925\n\ni=23926\n\ni=23927\n\ni=23928\n\ni=23929\n\ni=23930\n\ni=23931\n\ni=23932\n\ni=23933\n\ni=23934\n\ni=23935\n\ni=23936\n\ni=23937\n\ni=23938\n\ni=23939\n\ni=23940\n\ni=23941\n\ni=23942\n\ni=23943\n\ni=23944\n\ni=23945\n\ni=23946\n\ni=23947\n\ni=23948\n\ni=23949\n\ni=23950\n\ni=23951\n\ni=23952\n\ni=23953\n\ni=23954\n\ni=23955\n\ni=23956\n\ni=23957\n\ni=23958\n\ni=23959\n\ni=23960\n\ni=23961\n\ni=23962\n\ni=23963\n\ni=23964\n\ni=23965\n\ni=23966\n\ni=23967\n\ni=23968\n\ni=23969\n\ni=23970\n\ni=23971\n\ni=23972\n\ni=23973\n\ni=23974\n\ni=23975\n\ni=23976\n\ni=23977\n\ni=23978\n\ni=23979\n\ni=23980\n\ni=23981\n\ni=23982\n\ni=23983\n\ni=23984\n\ni=23985\n\ni=23986\n\ni=23987\n\ni=23988\n\ni=23989\n\ni=23990\n\ni=23991\n\ni=23992\n\ni=23993\n\ni=23994\n\ni=23995\n\ni=23996\n\ni=23997\n\ni=23998\n\ni=23999\n\ni=24000\n\ni=24001\n\ni=24002\n\ni=24003\n\ni=24004\n\ni=24005\n\ni=24006\n\ni=24007\n\ni=24008\n\ni=24009\n\ni=24010\n\ni=24011\n\ni=24012\n\ni=24013\n\ni=24014\n\ni=24015\n\ni=24016\n\ni=24017\n\ni=24018\n\ni=24019\n\ni=24020\n\ni=24021\n\ni=24022\n\ni=24023\n\ni=24024\n\ni=24025\n\ni=24026\n\ni=24027\n\ni=24028\n\ni=24029\n\ni=24030\n\ni=24031\n\ni=24032\n\ni=24033\n\ni=24034\n\ni=24035\n\ni=24036\n\ni=24037\n\ni=24038\n\ni=24039\n\ni=24040\n\ni=24041\n\ni=24042\n\ni=24043\n\ni=24044\n\ni=24045\n\ni=24046\n\ni=24047\n\ni=24048\n\ni=24049\n\ni=24050\n\ni=24051\n\ni=24052\n\ni=24053\n\ni=24054\n\ni=24055\n\ni=24056\n\ni=24057\n\ni=24058\n\ni=24059\n\ni=24060\n\ni=24061\n\ni=24062\n\ni=24063\n\ni=24064\n\ni=24065\n\ni=24066\n\ni=24067\n\ni=24068\n\ni=24069\n\ni=24070\n\ni=24071\n\ni=24072\n\ni=24073\n\ni=24074\n\ni=24075\n\ni=24076\n\ni=24077\n\ni=24078\n\ni=24079\n\ni=24080\n\ni=24081\n\ni=24082\n\ni=24083\n\ni=24084\n\ni=24085\n\ni=24086\n\ni=24087\n\ni=24088\n\ni=24089\n\ni=24090\n\ni=24091\n\ni=24092\n\ni=24093\n\ni=24094\n\ni=24095\n\ni=24096\n\ni=24097\n\ni=24098\n\ni=24099\n\ni=24100\n\ni=24101\n\ni=24102\n\ni=24103\n\ni=24104\n\ni=24105\n\ni=24106\n\ni=24107\n\ni=24108\n\ni=24109\n\ni=24110\n\ni=24111\n\ni=24112\n\ni=24113\n\ni=24114\n\ni=24115\n\ni=24116\n\ni=24117\n\ni=24118\n\ni=24119\n\ni=24120\n\ni=24121\n\ni=24122\n\ni=24123\n\ni=24124\n\ni=24125\n\ni=24126\n\ni=24127\n\ni=24128\n\ni=24129\n\ni=24130\n\ni=24131\n\ni=24132\n\ni=24133\n\ni=24134\n\ni=24135\n\ni=24136\n\ni=24137\n\ni=24138\n\ni=24139\n\ni=24140\n\ni=24141\n\ni=24142\n\ni=24143\n\ni=24144\n\ni=24145\n\ni=24146\n\ni=24147\n\ni=24148\n\ni=24149\n\ni=24150\n\ni=24151\n\ni=24152\n\ni=24153\n\ni=24154\n\ni=24155\n\ni=24156\n\ni=24157\n\ni=24158\n\ni=24159\n\ni=24160\n\ni=24161\n\ni=24162\n\ni=24163\n\ni=24164\n\ni=24165\n\ni=24166\n\ni=24167\n\ni=24168\n\ni=24169\n\ni=24170\n\ni=24171\n\ni=24172\n\ni=24173\n\ni=24174\n\ni=24175\n\ni=24176\n\ni=24177\n\ni=24178\n\ni=24179\n\ni=24180\n\ni=24181\n\ni=24182\n\ni=24183\n\ni=24184\n\ni=24185\n\ni=24186\n\ni=24187\n\ni=24188\n\ni=24189\n\ni=24190\n\ni=24191\n\ni=24192\n\ni=24193\n\ni=24194\n\ni=24195\n\ni=24196\n\ni=24197\n\ni=24198\n\ni=24199\n\ni=24200\n\ni=24201\n\ni=24202\n\ni=24203\n\ni=24204\n\ni=24205\n\ni=24206\n\ni=24207\n\ni=24208\n\ni=24209\n\ni=24210\n\ni=24211\n\ni=24212\n\ni=24213\n\ni=24214\n\ni=24215\n\ni=24216\n\ni=24217\n\ni=24218\n\ni=24219\n\ni=24220\n\ni=24221\n\ni=24222\n\ni=24223\n\ni=24224\n\ni=24225\n\ni=24226\n\ni=24227\n\ni=24228\n\ni=24229\n\ni=24230\n\ni=24231\n\ni=24232\n\ni=24233\n\ni=24234\n\ni=24235\n\ni=24236\n\ni=24237\n\ni=24238\n\ni=24239\n\ni=24240\n\ni=24241\n\ni=24242\n\ni=24243\n\ni=24244\n\ni=24245\n\ni=24246\n\ni=24247\n\ni=24248\n\ni=24249\n\ni=24250\n\ni=24251\n\ni=24252\n\ni=24253\n\ni=24254\n\ni=24255\n\ni=24256\n\ni=24257\n\ni=24258\n\ni=24259\n\ni=24260\n\ni=24261\n\ni=24262\n\ni=24263\n\ni=24264\n\ni=24265\n\ni=24266\n\ni=24267\n\ni=24268\n\ni=24269\n\ni=24270\n\ni=24271\n\ni=24272\n\ni=24273\n\ni=24274\n\ni=24275\n\ni=24276\n\ni=24277\n\ni=24278\n\ni=24279\n\ni=24280\n\ni=24281\n\ni=24282\n\ni=24283\n\ni=24284\n\ni=24285\n\ni=24286\n\ni=24287\n\ni=24288\n\ni=24289\n\ni=24290\n\ni=24291\n\ni=24292\n\ni=24293\n\ni=24294\n\ni=24295\n\ni=24296\n\ni=24297\n\ni=24298\n\ni=24299\n\ni=24300\n\ni=24301\n\ni=24302\n\ni=24303\n\ni=24304\n\ni=24305\n\ni=24306\n\ni=24307\n\ni=24308\n\ni=24309\n\ni=24310\n\ni=24311\n\ni=24312\n\ni=24313\n\ni=24314\n\ni=24315\n\ni=24316\n\ni=24317\n\ni=24318\n\ni=24319\n\ni=24320\n\ni=24321\n\ni=24322\n\ni=24323\n\ni=24324\n\ni=24325\n\ni=24326\n\ni=24327\n\ni=24328\n\ni=24329\n\ni=24330\n\ni=24331\n\ni=24332\n\ni=24333\n\ni=24334\n\ni=24335\n\ni=24336\n\ni=24337\n\ni=24338\n\ni=24339\n\ni=24340\n\ni=24341\n\ni=24342\n\ni=24343\n\ni=24344\n\ni=24345\n\ni=24346\n\ni=24347\n\ni=24348\n\ni=24349\n\ni=24350\n\ni=24351\n\ni=24352\n\ni=24353\n\ni=24354\n\ni=24355\n\ni=24356\n\ni=24357\n\ni=24358\n\ni=24359\n\ni=24360\n\ni=24361\n\ni=24362\n\ni=24363\n\ni=24364\n\ni=24365\n\ni=24366\n\ni=24367\n\ni=24368\n\ni=24369\n\ni=24370\n\ni=24371\n\ni=24372\n\ni=24373\n\ni=24374\n\ni=24375\n\ni=24376\n\ni=24377\n\ni=24378\n\ni=24379\n\ni=24380\n\ni=24381\n\ni=24382\n\ni=24383\n\ni=24384\n\ni=24385\n\ni=24386\n\ni=24387\n\ni=24388\n\ni=24389\n\ni=24390\n\ni=24391\n\ni=24392\n\ni=24393\n\ni=24394\n\ni=24395\n\ni=24396\n\ni=24397\n\ni=24398\n\ni=24399\n\ni=24400\n\ni=24401\n\ni=24402\n\ni=24403\n\ni=24404\n\ni=24405\n\ni=24406\n\ni=24407\n\ni=24408\n\ni=24409\n\ni=24410\n\ni=24411\n\ni=24412\n\ni=24413\n\ni=24414\n\ni=24415\n\ni=24416\n\ni=24417\n\ni=24418\n\ni=24419\n\ni=24420\n\ni=24421\n\ni=24422\n\ni=24423\n\ni=24424\n\ni=24425\n\ni=24426\n\ni=24427\n\ni=24428\n\ni=24429\n\ni=24430\n\ni=24431\n\ni=24432\n\ni=24433\n\ni=24434\n\ni=24435\n\ni=24436\n\ni=24437\n\ni=24438\n\ni=24439\n\ni=24440\n\ni=24441\n\ni=24442\n\ni=24443\n\ni=24444\n\ni=24445\n\ni=24446\n\ni=24447\n\ni=24448\n\ni=24449\n\ni=24450\n\ni=24451\n\ni=24452\n\ni=24453\n\ni=24454\n\ni=24455\n\ni=24456\n\ni=24457\n\ni=24458\n\ni=24459\n\ni=24460\n\ni=24461\n\ni=24462\n\ni=24463\n\ni=24464\n\ni=24465\n\ni=24466\n\ni=24467\n\ni=24468\n\ni=24469\n\ni=24470\n\ni=24471\n\ni=24472\n\ni=24473\n\ni=24474\n\ni=24475\n\ni=24476\n\ni=24477\n\ni=24478\n\ni=24479\n\ni=24480\n\ni=24481\n\ni=24482\n\ni=24483\n\ni=24484\n\ni=24485\n\ni=24486\n\ni=24487\n\ni=24488\n\ni=24489\n\ni=24490\n\ni=24491\n\ni=24492\n\ni=24493\n\ni=24494\n\ni=24495\n\ni=24496\n\ni=24497\n\ni=24498\n\ni=24499\n\ni=24500\n\ni=24501\n\ni=24502\n\ni=24503\n\ni=24504\n\ni=24505\n\ni=24506\n\ni=24507\n\ni=24508\n\ni=24509\n\ni=24510\n\ni=24511\n\ni=24512\n\ni=24513\n\ni=24514\n\ni=24515\n\ni=24516\n\ni=24517\n\ni=24518\n\ni=24519\n\ni=24520\n\ni=24521\n\ni=24522\n\ni=24523\n\ni=24524\n\ni=24525\n\ni=24526\n\ni=24527\n\ni=24528\n\ni=24529\n\ni=24530\n\ni=24531\n\ni=24532\n\ni=24533\n\ni=24534\n\ni=24535\n\ni=24536\n\ni=24537\n\ni=24538\n\ni=24539\n\ni=24540\n\ni=24541\n\ni=24542\n\ni=24543\n\ni=24544\n\ni=24545\n\ni=24546\n\ni=24547\n\ni=24548\n\ni=24549\n\ni=24550\n\ni=24551\n\ni=24552\n\ni=24553\n\ni=24554\n\ni=24555\n\ni=24556\n\ni=24557\n\ni=24558\n\ni=24559\n\ni=24560\n\ni=24561\n\ni=24562\n\ni=24563\n\ni=24564\n\ni=24565\n\ni=24566\n\ni=24567\n\ni=24568\n\ni=24569\n\ni=24570\n\ni=24571\n\ni=24572\n\ni=24573\n\ni=24574\n\ni=24575\n\ni=24576\n\ni=24577\n\ni=24578\n\ni=24579\n\ni=24580\n\ni=24581\n\ni=24582\n\ni=24583\n\ni=24584\n\ni=24585\n\ni=24586\n\ni=24587\n\ni=24588\n\ni=24589\n\ni=24590\n\ni=24591\n\ni=24592\n\ni=24593\n\ni=24594\n\ni=24595\n\ni=24596\n\ni=24597\n\ni=24598\n\ni=24599\n\ni=24600\n\ni=24601\n\ni=24602\n\ni=24603\n\ni=24604\n\ni=24605\n\ni=24606\n\ni=24607\n\ni=24608\n\ni=24609\n\ni=24610\n\ni=24611\n\ni=24612\n\ni=24613\n\ni=24614\n\ni=24615\n\ni=24616\n\ni=24617\n\ni=24618\n\ni=24619\n\ni=24620\n\ni=24621\n\ni=24622\n\ni=24623\n\ni=24624\n\ni=24625\n\ni=24626\n\ni=24627\n\ni=24628\n\ni=24629\n\ni=24630\n\ni=24631\n\ni=24632\n\ni=24633\n\ni=24634\n\ni=24635\n\ni=24636\n\ni=24637\n\ni=24638\n\ni=24639\n\ni=24640\n\ni=24641\n\ni=24642\n\ni=24643\n\ni=24644\n\ni=24645\n\ni=24646\n\ni=24647\n\ni=24648\n\ni=24649\n\ni=24650\n\ni=24651\n\ni=24652\n\ni=24653\n\ni=24654\n\ni=24655\n\ni=24656\n\ni=24657\n\ni=24658\n\ni=24659\n\ni=24660\n\ni=24661\n\ni=24662\n\ni=24663\n\ni=24664\n\ni=24665\n\ni=24666\n\ni=24667\n\ni=24668\n\ni=24669\n\ni=24670\n\ni=24671\n\ni=24672\n\ni=24673\n\ni=24674\n\ni=24675\n\ni=24676\n\ni=24677\n\ni=24678\n\ni=24679\n\ni=24680\n\ni=24681\n\ni=24682\n\ni=24683\n\ni=24684\n\ni=24685\n\ni=24686\n\ni=24687\n\ni=24688\n\ni=24689\n\ni=24690\n\ni=24691\n\ni=24692\n\ni=24693\n\ni=24694\n\ni=24695\n\ni=24696\n\ni=24697\n\ni=24698\n\ni=24699\n\ni=24700\n\ni=24701\n\ni=24702\n\ni=24703\n\ni=24704\n\ni=24705\n\ni=24706\n\ni=24707\n\ni=24708\n\ni=24709\n\ni=24710\n\ni=24711\n\ni=24712\n\ni=24713\n\ni=24714\n\ni=24715\n\ni=24716\n\ni=24717\n\ni=24718\n\ni=24719\n\ni=24720\n\ni=24721\n\ni=24722\n\ni=24723\n\ni=24724\n\ni=24725\n\ni=24726\n\ni=24727\n\ni=24728\n\ni=24729\n\ni=24730\n\ni=24731\n\ni=24732\n\ni=24733\n\ni=24734\n\ni=24735\n\ni=24736\n\ni=24737\n\ni=24738\n\ni=24739\n\ni=24740\n\ni=24741\n\ni=24742\n\ni=24743\n\ni=24744\n\ni=24745\n\ni=24746\n\ni=24747\n\ni=24748\n\ni=24749\n\ni=24750\n\ni=24751\n\ni=24752\n\ni=24753\n\ni=24754\n\ni=24755\n\ni=24756\n\ni=24757\n\ni=24758\n\ni=24759\n\ni=24760\n\ni=24761\n\ni=24762\n\ni=24763\n\ni=24764\n\ni=24765\n\ni=24766\n\ni=24767\n\ni=24768\n\ni=24769\n\ni=24770\n\ni=24771\n\ni=24772\n\ni=24773\n\ni=24774\n\ni=24775\n\ni=24776\n\ni=24777\n\ni=24778\n\ni=24779\n\ni=24780\n\ni=24781\n\ni=24782\n\ni=24783\n\ni=24784\n\ni=24785\n\ni=24786\n\ni=24787\n\ni=24788\n\ni=24789\n\ni=24790\n\ni=24791\n\ni=24792\n\ni=24793\n\ni=24794\n\ni=24795\n\ni=24796\n\ni=24797\n\ni=24798\n\ni=24799\n\ni=24800\n\ni=24801\n\ni=24802\n\ni=24803\n\ni=24804\n\ni=24805\n\ni=24806\n\ni=24807\n\ni=24808\n\ni=24809\n\ni=24810\n\ni=24811\n\ni=24812\n\ni=24813\n\ni=24814\n\ni=24815\n\ni=24816\n\ni=24817\n\ni=24818\n\ni=24819\n\ni=24820\n\ni=24821\n\ni=24822\n\ni=24823\n\ni=24824\n\ni=24825\n\ni=24826\n\ni=24827\n\ni=24828\n\ni=24829\n\ni=24830\n\ni=24831\n\ni=24832\n\ni=24833\n\ni=24834\n\ni=24835\n\ni=24836\n\ni=24837\n\ni=24838\n\ni=24839\n\ni=24840\n\ni=24841\n\ni=24842\n\ni=24843\n\ni=24844\n\ni=24845\n\ni=24846\n\ni=24847\n\ni=24848\n\ni=24849\n\ni=24850\n\ni=24851\n\ni=24852\n\ni=24853\n\ni=24854\n\ni=24855\n\ni=24856\n\ni=24857\n\ni=24858\n\ni=24859\n\ni=24860\n\ni=24861\n\ni=24862\n\ni=24863\n\ni=24864\n\ni=24865\n\ni=24866\n\ni=24867\n\ni=24868\n\ni=24869\n\ni=24870\n\ni=24871\n\ni=24872\n\ni=24873\n\ni=24874\n\ni=24875\n\ni=24876\n\ni=24877\n\ni=24878\n\ni=24879\n\ni=24880\n\ni=24881\n\ni=24882\n\ni=24883\n\ni=24884\n\ni=24885\n\ni=24886\n\ni=24887\n\ni=24888\n\ni=24889\n\ni=24890\n\ni=24891\n\ni=24892\n\ni=24893\n\ni=24894\n\ni=24895\n\ni=24896\n\ni=24897\n\ni=24898\n\ni=24899\n\ni=24900\n\ni=24901\n\ni=24902\n\ni=24903\n\ni=24904\n\ni=24905\n\ni=24906\n\ni=24907\n\ni=24908\n\ni=24909\n\ni=24910\n\ni=24911\n\ni=24912\n\ni=24913\n\ni=24914\n\ni=24915\n\ni=24916\n\ni=24917\n\ni=24918\n\ni=24919\n\ni=24920\n\ni=24921\n\ni=24922\n\ni=24923\n\ni=24924\n\ni=24925\n\ni=24926\n\ni=24927\n\ni=24928\n\ni=24929\n\ni=24930\n\ni=24931\n\ni=24932\n\ni=24933\n\ni=24934\n\ni=24935\n\ni=24936\n\ni=24937\n\ni=24938\n\ni=24939\n\ni=24940\n\ni=24941\n\ni=24942\n\ni=24943\n\ni=24944\n\ni=24945\n\ni=24946\n\ni=24947\n\ni=24948\n\ni=24949\n\ni=24950\n\ni=24951\n\ni=24952\n\ni=24953\n\ni=24954\n\ni=24955\n\ni=24956\n\ni=24957\n\ni=24958\n\ni=24959\n\ni=24960\n\ni=24961\n\ni=24962\n\ni=24963\n\ni=24964\n\ni=24965\n\ni=24966\n\ni=24967\n\ni=24968\n\ni=24969\n\ni=24970\n\ni=24971\n\ni=24972\n\ni=24973\n\ni=24974\n\ni=24975\n\ni=24976\n\ni=24977\n\ni=24978\n\ni=24979\n\ni=24980\n\ni=24981\n\ni=24982\n\ni=24983\n\ni=24984\n\ni=24985\n\ni=24986\n\ni=24987\n\ni=24988\n\ni=24989\n\ni=24990\n\ni=24991\n\ni=24992\n\ni=24993\n\ni=24994\n\ni=24995\n\ni=24996\n\ni=24997\n\ni=24998\n\ni=24999\n\n"
    }
   ],
   "source": [
    "# Transfor data into vectors\n",
    "def vectorize_sequences(sequences, dimension=10000):\n",
    "    results = np.zeros((len(sequences),dimension)) #creating tensor of shape (25000,10000), a 2D tensor\n",
    "    print(results.shape)\n",
    "    for i,sequence in enumerate(sequences):\n",
    "        results[i,sequence]=1.\n",
    "    return results\n",
    "x_train = vectorize_sequences(train_data)\n",
    "x_test = vectorize_sequences(test_data)\n",
    "x_train[0]"
   ]
  },
  {
   "cell_type": "code",
   "execution_count": null,
   "metadata": {},
   "outputs": [],
   "source": []
  }
 ]
}